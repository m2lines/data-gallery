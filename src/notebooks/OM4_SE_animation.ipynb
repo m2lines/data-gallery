{
 "cells": [
  {
   "cell_type": "markdown",
   "metadata": {},
   "source": [
    "To run this notebook, you will have to use LEAP-Pangeo hub!\n",
    "\n",
    "<a href=\"https://leap.2i2c.cloud/hub/user-redirect/git-pull?repo=https%3A%2F%2Fgithub.com%2Fm2lines%2Fdata-gallery&urlpath=lab%2Ftree%2Fdata-gallery%2Fnotebooks%2FOM4_SE_animation.ipynb&branch=main\"><img src=\"https://custom-icon-badges.demolab.com/badge/LEAP-Launch%20%F0%9F%9A%80-blue?style=for-the-badge&logo=leap-globe\" style=\"height:30px;\"></a>"
   ]
  },
  {
   "cell_type": "markdown",
   "metadata": {},
   "source": [
    "# OM4 Animation\n",
    "\n",
    "In this notebook, we will visualize the OM4 data using the `xarray` and `matplotlib` libraries and create an animation of the Surface Kinetic Energy over time. We will explore visualizations in both global and regional scales. \n",
    "\n",
    "Credits: https://github.com/Pperezhogin/MOM6/blob/Zanna-Bolton-2020/experiments/ZB20-Results/14-Global-animation.ipynb"
   ]
  },
  {
   "cell_type": "code",
   "execution_count": null,
   "metadata": {},
   "outputs": [],
   "source": [
    "import xarray as xr\n",
    "import numpy as np\n",
    "import matplotlib.pyplot as plt\n",
    "from helpers.collection_of_experiments import CollectionOfExperiments\n",
    "from helpers.plot_helpers import *\n",
    "from helpers.computational_tools import (\n",
    "    remesh,\n",
    "    gaussian_remesh,\n",
    "    select_LatLon,\n",
    "    Lk_error,\n",
    "    x_coord,\n",
    "    y_coord,\n",
    ")\n",
    "from mpl_toolkits.axes_grid1 import make_axes_locatable\n",
    "import cmocean\n",
    "import os\n",
    "\n",
    "%load_ext autoreload\n",
    "%autoreload 2\n",
    "import warnings\n",
    "\n",
    "warnings.filterwarnings(\"ignore\")\n",
    "import hvplot.xarray\n",
    "import holoviews as hv\n",
    "import matplotlib as mpl\n",
    "import cartopy.crs as ccrs\n",
    "\n",
    "from matplotlib.animation import FuncAnimation, PillowWriter\n",
    "\n",
    "hvplot.output(widget_location=\"bottom\")"
   ]
  },
  {
   "cell_type": "code",
   "execution_count": null,
   "metadata": {},
   "outputs": [],
   "source": [
    "path = \"gs://leap-persistent/jbusecke/OM4_m2lines/daily_combined.zarr\"\n",
    "ds = xr.open_dataset(path, engine=\"zarr\", chunks={})\n",
    "ds"
   ]
  },
  {
   "cell_type": "code",
   "execution_count": null,
   "metadata": {},
   "outputs": [],
   "source": [
    "ZBu = ds[\"ssu\"].sel(experiment=\"ZB2020\")\n",
    "ZBv = ds[\"ssv\"].sel(experiment=\"ZB2020\")\n",
    "ZBT = ds[\"tos\"].sel(experiment=\"ZB2020\")"
   ]
  },
  {
   "cell_type": "code",
   "execution_count": null,
   "metadata": {},
   "outputs": [],
   "source": [
    "loresu = ds[\"ssu\"].sel(experiment=\"unparameterized\")\n",
    "loresv = ds[\"ssv\"].sel(experiment=\"unparameterized\")\n",
    "loresT = ds[\"tos\"].sel(experiment=\"unparameterized\")"
   ]
  },
  {
   "cell_type": "code",
   "execution_count": null,
   "metadata": {},
   "outputs": [],
   "source": [
    "def KE(u, v, T):\n",
    "    return 0.5 * (remesh(u**2, T) + remesh(v**2, T))"
   ]
  },
  {
   "cell_type": "code",
   "execution_count": null,
   "metadata": {},
   "outputs": [],
   "source": [
    "ZBke = KE(ZBu, ZBv, ZBT)\n",
    "loreske = KE(loresu, loresv, ZBT)"
   ]
  },
  {
   "cell_type": "code",
   "execution_count": null,
   "metadata": {},
   "outputs": [],
   "source": [
    "plt.figure(figsize=(15, 15))\n",
    "np.log10(loreske.isel(time=0)).plot(cmap=\"inferno\", vmin=-3, vmax=0)\n",
    "plt.axvline(x=-80)\n",
    "plt.axvline(x=50)\n",
    "plt.axhline(y=-70)\n",
    "plt.axhline(y=-10);"
   ]
  },
  {
   "cell_type": "markdown",
   "metadata": {},
   "source": [
    "# Global plotter"
   ]
  },
  {
   "cell_type": "code",
   "execution_count": null,
   "metadata": {},
   "outputs": [],
   "source": [
    "def update_frame(i, plot_func, fig, ax1, ax2):\n",
    "    # Clear the current figure to prepare for the next frame's plot.\n",
    "    plt.clf()\n",
    "\n",
    "    plot_func(i, fig, ax1, ax2)\n",
    "\n",
    "\n",
    "def create_gif(plot_func, idx, filename=\"my-animation.gif\", dpi=200, FPS=18, loop=0):\n",
    "    fig, (ax1, ax2) = plt.subplots(\n",
    "        2, 1, figsize=(10, 20), subplot_kw={\"projection\": ccrs.Orthographic()}\n",
    "    )\n",
    "    fig.subplots_adjust(hspace=0.05)  # Adjust the spacing if necessary\n",
    "    ani = FuncAnimation(\n",
    "        fig,\n",
    "        update_frame,\n",
    "        frames=idx,\n",
    "        fargs=(plot_func, fig, ax1, ax2),\n",
    "        repeat=bool(loop),\n",
    "        blit=False,\n",
    "    )\n",
    "\n",
    "    writer = PillowWriter(fps=FPS, metadata=dict(artist=\"Me\"))\n",
    "    ani.save(filename, writer=writer)\n",
    "    plt.close(fig)\n",
    "\n",
    "\n",
    "def plot_global(i=0, fig=None, ax1=None, ax2=None):\n",
    "    if fig is None:\n",
    "        print(\"fig is none\")\n",
    "        fig, (ax1, ax2) = plt.subplots(\n",
    "            2, 1, figsize=(10, 20), subplot_kw={\"projection\": ccrs.Orthographic()}\n",
    "        )\n",
    "        fig.subplots_adjust(hspace=0.05)  # Adjust the spacing if necessary\n",
    "\n",
    "    time_idx = i * 5\n",
    "    time_str = loreske.time.isel(time=time_idx).item().strftime(\"%Y-%m-%d\")\n",
    "    ax1.clear()\n",
    "    ax2.clear()\n",
    "\n",
    "    ax1.coastlines(resolution=\"110m\")\n",
    "    ax1.gridlines()\n",
    "    im = loreske.isel(time=time_idx).plot(\n",
    "        ax=ax1,\n",
    "        transform=ccrs.PlateCarree(),\n",
    "        norm=mpl.colors.LogNorm(vmin=1e-3, vmax=1e0),\n",
    "        cmap=\"inferno\",\n",
    "        add_colorbar=False,\n",
    "    )\n",
    "    ax1.set_title(\"$1/4^o$\", fontsize=30)\n",
    "\n",
    "    ax2.coastlines(resolution=\"110m\")\n",
    "    ax2.gridlines()\n",
    "    im = ZBke.isel(time=time_idx).plot(\n",
    "        ax=ax2,\n",
    "        transform=ccrs.PlateCarree(),\n",
    "        norm=mpl.colors.LogNorm(vmin=1e-3, vmax=1e0),\n",
    "        cmap=\"inferno\",\n",
    "        add_colorbar=False,\n",
    "    )\n",
    "    ax2.set_title(\"$1/4^o$, ZB2020\", fontsize=30)\n",
    "    cb = plt.colorbar(im, pad=0.02, ax=[ax1, ax2], extend=\"both\", aspect=50, shrink=0.9)\n",
    "    cb.set_label(label=\"Surface KE, $\\mathrm{m}^2/\\mathrm{s}^2$\", fontsize=30)\n",
    "    plt.suptitle(time_str)"
   ]
  },
  {
   "cell_type": "code",
   "execution_count": null,
   "metadata": {},
   "outputs": [],
   "source": [
    "plot_global()"
   ]
  },
  {
   "cell_type": "markdown",
   "metadata": {},
   "source": [
    "Here, we show the animation of the Surface Kinetic Energy in intervals of 5 days shifting the longitude by 5 degrees each step. \n"
   ]
  },
  {
   "cell_type": "code",
   "execution_count": null,
   "metadata": {},
   "outputs": [],
   "source": [
    "%%time\n",
    "create_gif(\n",
    "    plot_global,\n",
    "    range(0, 360, 5),\n",
    "    filename=\"./global-ZB2020.gif\",\n",
    "    dpi=200,\n",
    "    FPS=18,\n",
    "    loop=0,\n",
    ")"
   ]
  },
  {
   "cell_type": "markdown",
   "metadata": {},
   "source": [
    "## EXPERIMENTAL CODE"
   ]
  },
  {
   "cell_type": "code",
   "execution_count": null,
   "metadata": {},
   "outputs": [],
   "source": [
    "%%time\n",
    "# Adjust matplotlib settings only once\n",
    "\n",
    "plt.rcParams.update(\n",
    "    {\"font.family\": \"serif\", \"figure.subplot.hspace\": 0.05, \"font.size\": 30}\n",
    ")\n",
    "\n",
    "# Pre-initialize the figure and axes outside the plotting function\n",
    "fig, (ax1, ax2) = plt.subplots(\n",
    "    2, 1, figsize=(10, 20), subplot_kw={\"projection\": ccrs.Orthographic()}\n",
    ")\n",
    "fig.subplots_adjust(hspace=0.05)  # Adjust the spacing if necessary\n",
    "\n",
    "\n",
    "def plot_global(i=0):\n",
    "    # Clear axes to prepare for the next frame's plot\n",
    "    ax1.clear()\n",
    "    ax2.clear()\n",
    "\n",
    "    # Set projection and plot properties\n",
    "    ax1.coastlines(resolution=\"110m\")\n",
    "    ax1.gridlines()\n",
    "    ax2.coastlines(resolution=\"110m\")\n",
    "    ax2.gridlines()\n",
    "\n",
    "    # Calculate time index and format string\n",
    "    time_idx = i * 5  # Adjust this based on your indexing needs\n",
    "    time_str = loreske.time.isel(time=time_idx).item().strftime(\"%Y-%m-%d\")\n",
    "\n",
    "    # Plotting data on ax1 and ax2 with actual code from your example\n",
    "    im = loreske.isel(time=time_idx).plot(\n",
    "        ax=ax1,\n",
    "        transform=ccrs.PlateCarree(),\n",
    "        norm=mpl.colors.LogNorm(vmin=1e-3, vmax=1e0),\n",
    "        cmap=\"inferno\",\n",
    "        add_colorbar=False,\n",
    "    )\n",
    "    ax1.set_title(\"$1/4^o$\", fontsize=30)\n",
    "\n",
    "    im = ZBke.isel(time=time_idx).plot(\n",
    "        ax=ax2,\n",
    "        transform=ccrs.PlateCarree(),\n",
    "        norm=mpl.colors.LogNorm(vmin=1e-3, vmax=1e0),\n",
    "        cmap=\"inferno\",\n",
    "        add_colorbar=False,\n",
    "    )\n",
    "    ax2.set_title(\"$1/4^o$, ZB2020\", fontsize=30)\n",
    "\n",
    "    # Adjust the colorbar\n",
    "    cb = plt.colorbar(im, pad=0.02, ax=[ax1, ax2], extend=\"both\", aspect=50, shrink=0.9)\n",
    "    cb.set_label(label=\"Surface KE, $\\mathrm{m}^2/\\mathrm{s}^2$\", fontsize=30)\n",
    "\n",
    "    # Set the supertitle for the figure\n",
    "    fig.suptitle(time_str, fontsize=30)\n",
    "\n",
    "\n",
    "def update_frame(i):\n",
    "    plot_global(i)\n",
    "\n",
    "\n",
    "# Create the animation\n",
    "ani = FuncAnimation(fig, update_frame, frames=range(0, 360, 5), repeat=False)\n",
    "\n",
    "# Save the animation\n",
    "ani.save(\n",
    "    \"optimized-global-ZB2020.gif\",\n",
    "    writer=PillowWriter(fps=18, metadata=dict(artist=\"Me\")),\n",
    ")\n",
    "plt.close(fig)"
   ]
  },
  {
   "cell_type": "markdown",
   "metadata": {},
   "source": [
    "# Regional plotter"
   ]
  },
  {
   "cell_type": "code",
   "execution_count": null,
   "metadata": {},
   "outputs": [],
   "source": [
    "default_rcParams({\"figure.subplot.hspace\": 0.05, \"font.size\": 30})\n",
    "\n",
    "\n",
    "def plot_regions(i=0, lat=slice(15, 70), lon=slice(-100, 0), fig=None):\n",
    "    if fig is None:\n",
    "        fig = plt.figure(figsize=(7, 13))\n",
    "    time_idx = i\n",
    "    time_str = loreske.time.isel(time=time_idx).item().strftime(\"%Y-%m-%d\")\n",
    "\n",
    "    ax1 = plt.subplot(\n",
    "        211,\n",
    "        projection=ccrs.Orthographic(\n",
    "            central_latitude=(lat.start + lat.stop) / 2,\n",
    "            central_longitude=(lon.start + lon.stop) / 2,\n",
    "        ),\n",
    "    )\n",
    "    ax1.coastlines(resolution=\"110m\")\n",
    "    ax1.gridlines()\n",
    "    im = (\n",
    "        loreske.isel(time=time_idx)\n",
    "        .sel(xh=lon, yh=lat)\n",
    "        .plot(\n",
    "            ax=ax1,\n",
    "            transform=ccrs.PlateCarree(),\n",
    "            norm=mpl.colors.LogNorm(vmin=1e-3, vmax=1e0),\n",
    "            cmap=\"inferno\",\n",
    "            add_colorbar=False,\n",
    "        )\n",
    "    )\n",
    "    ax1.set_title(\"$1/4^o$\", fontsize=30)\n",
    "\n",
    "    ax2 = plt.subplot(\n",
    "        212,\n",
    "        projection=ccrs.Orthographic(\n",
    "            central_latitude=(lat.start + lat.stop) / 2,\n",
    "            central_longitude=(lon.start + lon.stop) / 2,\n",
    "        ),\n",
    "    )\n",
    "    # ax2.coastlines(resolution='110m')\n",
    "    ax2.gridlines()\n",
    "    im = (\n",
    "        ZBke.isel(time=time_idx)\n",
    "        .sel(xh=lon, yh=lat)\n",
    "        .plot(\n",
    "            ax=ax2,\n",
    "            transform=ccrs.PlateCarree(),\n",
    "            norm=mpl.colors.LogNorm(vmin=1e-3, vmax=1e0),\n",
    "            cmap=\"inferno\",\n",
    "            add_colorbar=False,\n",
    "        )\n",
    "    )\n",
    "    ax2.set_title(\"$1/4^o$, ZB2020\", fontsize=30)\n",
    "    cb = plt.colorbar(im, pad=0.02, ax=[ax1, ax2], extend=\"both\", aspect=50, shrink=0.9)\n",
    "    cb.set_label(label=\"Surface KE, $\\mathrm{m}^2/\\mathrm{s}^2$\", fontsize=30)\n",
    "    plt.suptitle(time_str)"
   ]
  },
  {
   "cell_type": "markdown",
   "metadata": {},
   "source": [
    "## Plotting the Surface Kinetic Energy in the North Atlantic region."
   ]
  },
  {
   "cell_type": "code",
   "execution_count": null,
   "metadata": {},
   "outputs": [],
   "source": [
    "plot_Atlantic = lambda idx, fig: plot_regions(\n",
    "    i=idx, lat=slice(20, 60), lon=slice(-90, -40), fig=fig\n",
    ")\n",
    "plot_Atlantic(1461, None)\n",
    "# plot_Atlantic(1826)"
   ]
  },
  {
   "cell_type": "markdown",
   "metadata": {},
   "source": [
    "Saving the corresponding animation"
   ]
  },
  {
   "cell_type": "code",
   "execution_count": null,
   "metadata": {},
   "outputs": [],
   "source": [
    "%%time\n",
    "create_gif(\n",
    "    plot_Atlantic,\n",
    "    range(1461, 1826, 5),\n",
    "    filename=\"./global-ZB2020-Atlantic.gif\",\n",
    "    dpi=200,\n",
    "    FPS=18,\n",
    "    loop=0,\n",
    ")"
   ]
  },
  {
   "cell_type": "markdown",
   "metadata": {},
   "source": [
    "## Plotting the Surface Kinetic Energy in the Pacific region."
   ]
  },
  {
   "cell_type": "code",
   "execution_count": null,
   "metadata": {},
   "outputs": [],
   "source": [
    "plot_Pacific = lambda idx, fig: plot_regions(\n",
    "    i=idx, lat=slice(20, 60), lon=slice(-240, -190), fig=fig\n",
    ")\n",
    "plot_Pacific(-1, None)"
   ]
  },
  {
   "cell_type": "markdown",
   "metadata": {},
   "source": [
    "Saving the corresponding animation"
   ]
  },
  {
   "cell_type": "code",
   "execution_count": null,
   "metadata": {},
   "outputs": [],
   "source": [
    "%%time\n",
    "create_gif(\n",
    "    plot_Pacific,\n",
    "    range(1461, 1826, 5),\n",
    "    filename=\"./global-ZB2020-Pacific.gif\",\n",
    "    dpi=200,\n",
    "    FPS=18,\n",
    "    loop=0,\n",
    ")"
   ]
  },
  {
   "cell_type": "markdown",
   "metadata": {},
   "source": [
    "## Plotting the Surface Kinetic Energy in the Aghulas region"
   ]
  },
  {
   "cell_type": "code",
   "execution_count": null,
   "metadata": {},
   "outputs": [],
   "source": [
    "plot_Aghulas = lambda idx, fig: plot_regions(\n",
    "    idx=idx, lat=slice(-50, -10), lon=slice(0, 50), fig=fig\n",
    ")\n",
    "plot_Aghulas(-1, None)"
   ]
  },
  {
   "cell_type": "markdown",
   "metadata": {},
   "source": [
    "Saving the corresponding animation"
   ]
  },
  {
   "cell_type": "code",
   "execution_count": null,
   "metadata": {},
   "outputs": [],
   "source": [
    "%%time\n",
    "create_gif(\n",
    "    plot_Aghulas,\n",
    "    range(1461, 1826, 5),\n",
    "    filename=\"./global-ZB2020-Aghulas.gif\",\n",
    "    dpi=200,\n",
    "    FPS=18,\n",
    "    loop=0,\n",
    ")"
   ]
  }
 ],
 "metadata": {
  "kernelspec": {
   "display_name": "Python 3 (ipykernel)",
   "language": "python",
   "name": "python3"
  },
  "language_info": {
   "codemirror_mode": {
    "name": "ipython",
    "version": 3
   },
   "file_extension": ".py",
   "mimetype": "text/x-python",
   "name": "python",
   "nbconvert_exporter": "python",
   "pygments_lexer": "ipython3",
   "version": "3.11.7"
  }
 },
 "nbformat": 4,
 "nbformat_minor": 4
}
