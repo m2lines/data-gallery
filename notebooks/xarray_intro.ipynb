{
 "cells": [
  {
   "cell_type": "markdown",
   "metadata": {},
   "source": [
    "# Introduction to Xarray\n",
    "\n",
    "[Xarray](https://github.com/pydata/xarray) is an open source Python package designed to work with lablled multidimensional arrays in an efficient manner. By multidimensional data (also often called N-dimensional), we mean data with many independent dimensions or axes. For example, we might represent Earth’s surface temperature $T$ as a three dimensional variable:\n",
    "\n",
    "\\begin{equation*}\n",
    "T(x,y,t)\n",
    "\\end{equation*}\n",
    "\n",
    "where $x$ and $y$ are spatial dimensions and $t$ is time. By labeled, we mean data that has metadata associated with it describing the names and relationships between the variables.\n",
    "\n",
    "Example of multidimensional data processing using Xarray:"
   ]
  },
  {
   "cell_type": "code",
   "execution_count": null,
   "metadata": {},
   "outputs": [],
   "source": [
    "!wget -O ./dataset.nc https://github.com/pangeo-data/tutorial-data/blob/master/sst/NOAA_NCDC_ERSST_v3b_SST-1960.nc"
   ]
  },
  {
   "cell_type": "code",
   "execution_count": null,
   "metadata": {},
   "outputs": [],
   "source": [
    "import xarray as xr\n",
    "\n",
    "ds = xr.open_dataset(\"./dataset.nc\")\n",
    "ds"
   ]
  },
  {
   "cell_type": "markdown",
   "metadata": {},
   "source": [
    "## Data Structures\n",
    "\n",
    "Like Pandas, xarray has two fundamental data structures: a `DataArray`, which holds a single multi-dimensional variable and its coordinates a `Dataset`, which holds multiple variables that potentially share the same coordinates\n",
    "\n",
    "A `DataArray` has four essential attributes: * values: a numpy.ndarray holding the array’s values `dims`: dimension names for each axis (e.g., `('x', 'y', 'z')`), `coords`: a dict-like container of arrays (coordinates) that label each point (e.g., 1-dimensional arrays of numbers, datetime objects or strings) `attrs`: an `OrderedDict` to hold arbitrary metadata (attributes)\n",
    "\n",
    "A dataset is simply an object containing multiple `DataArrays` indexed by variable name."
   ]
  },
  {
   "cell_type": "code",
   "execution_count": null,
   "metadata": {},
   "outputs": [],
   "source": [
    "xr.set_options(display_style=\"html\")\n",
    "ds"
   ]
  },
  {
   "cell_type": "code",
   "execution_count": null,
   "metadata": {},
   "outputs": [],
   "source": [
    "# attribute syntax\n",
    "sst = ds.sst  # or sst = ds['sst']\n",
    "\n",
    "sst"
   ]
  },
  {
   "cell_type": "markdown",
   "metadata": {},
   "source": [
    "## Indexing"
   ]
  },
  {
   "cell_type": "code",
   "execution_count": null,
   "metadata": {},
   "outputs": [],
   "source": [
    "sst.sel(time=\"1960-06-15\").plot(vmin=-2, vmax=30)"
   ]
  },
  {
   "cell_type": "markdown",
   "metadata": {},
   "source": [
    "We can select along any axis "
   ]
  },
  {
   "cell_type": "code",
   "execution_count": null,
   "metadata": {},
   "outputs": [],
   "source": [
    "sst.sel(lon=180).transpose().plot()"
   ]
  },
  {
   "cell_type": "code",
   "execution_count": null,
   "metadata": {},
   "outputs": [],
   "source": [
    "sst.sel(lon=180, lat=40).plot()"
   ]
  }
 ],
 "metadata": {
  "kernelspec": {
   "display_name": "DGM2lines",
   "language": "python",
   "name": "python3"
  },
  "language_info": {
   "codemirror_mode": {
    "name": "ipython",
    "version": 3
   },
   "file_extension": ".py",
   "mimetype": "text/x-python",
   "name": "python",
   "nbconvert_exporter": "python",
   "pygments_lexer": "ipython3",
   "version": "3.9.18"
  }
 },
 "nbformat": 4,
 "nbformat_minor": 2
}
